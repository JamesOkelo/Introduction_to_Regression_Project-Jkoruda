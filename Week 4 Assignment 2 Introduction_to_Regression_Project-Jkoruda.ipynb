{
  "cells": [
    {
      "cell_type": "markdown",
      "metadata": {
        "id": "czJUgQ-6cA_p"
      },
      "source": [
        "#  Introduction to Regression Project: Mobile carrier Megaline"
      ]
    },
    {
      "cell_type": "markdown",
      "metadata": {
        "id": "gLkzO7IdcA_r"
      },
      "source": [
        "## 1. Defining the Question"
      ]
    },
    {
      "cell_type": "markdown",
      "metadata": {
        "id": "JABkWE3JcA_s"
      },
      "source": [
        "### a) Specifying the Data Analysis Question"
      ]
    },
    {
      "cell_type": "markdown",
      "metadata": {
        "id": "1sGZ56H7cA_t"
      },
      "source": [
        "The task is  to develop a model that will pick the right plan\n"
      ]
    },
    {
      "cell_type": "markdown",
      "metadata": {
        "id": "8XxsPjnQcA_t"
      },
      "source": [
        "### b) Defining the Metric for Success"
      ]
    },
    {
      "cell_type": "markdown",
      "metadata": {
        "id": "100AFlNtcA_u"
      },
      "source": [
        "We will have accomplished our objective if we develop a model with the highest possible accuracy"
      ]
    },
    {
      "cell_type": "markdown",
      "metadata": {
        "id": "SrzhnVvbcA_v"
      },
      "source": [
        "### c) Understanding the Context"
      ]
    },
    {
      "cell_type": "markdown",
      "metadata": {},
      "source": [
        "Mobile carrier Megaline has found out that many of their subscribers use legacy plans.\n",
        "They want to develop a model that would analyze subscribers' behavior and recommend\n",
        "one of Megaline's newer plans: Smart or Ultra.\n",
        "You have access to behavior data about subscribers who have already switched to the\n",
        "new plans (from the project for the Statistical Data Analysis course). For this\n",
        "classification task, you need to develop a model that will pick the right plan. Since you’ve\n",
        "already performed the data preprocessing step, you can move straight to creating the\n",
        "model.\n",
        "Develop a model with the highest possible accuracy. In this project, the threshold for\n",
        "accuracy is 0.75.\n",
        "Check the accuracy using the test dataset.\n"
      ]
    },
    {
      "cell_type": "markdown",
      "metadata": {
        "id": "IV0fyMl_cA_w"
      },
      "source": [
        "### d) Recording the Experimental Design"
      ]
    },
    {
      "cell_type": "markdown",
      "metadata": {
        "id": "2-crdiQgcA_x"
      },
      "source": [
        "● Data Importation\n",
        "\n",
        "● Data Exploration\n",
        "\n",
        "● Data Preparation\n",
        "\n",
        "● Model Evaluation\n",
        "\n",
        "● Hyparameter Tuning\n",
        "\n",
        "● Findings and Recommendations"
      ]
    },
    {
      "cell_type": "markdown",
      "metadata": {
        "id": "rz5Qg2aocA_x"
      },
      "source": [
        "### e) Data Relevance"
      ]
    },
    {
      "cell_type": "markdown",
      "metadata": {
        "id": "y3c-bdsRcA_y"
      },
      "source": [
        "The given data sets were relevant in answering the research question."
      ]
    },
    {
      "cell_type": "markdown",
      "metadata": {},
      "source": [
        "## Load Libraries"
      ]
    },
    {
      "cell_type": "code",
      "execution_count": null,
      "metadata": {},
      "outputs": [],
      "source": [
        "# Loading  libraries\n",
        "\n",
        "import pandas as pd\n",
        "import numpy as np\n",
        "import matplotlib.pyplot as plt\n",
        "import seaborn as sns\n",
        "from sklearn.tree import DecisionTreeClassifier\n",
        "from sklearn.ensemble import RandomForestClassifier\n",
        "from sklearn.metrics import classification_report"
      ]
    },
    {
      "cell_type": "markdown",
      "metadata": {
        "id": "jefIDLCVcA_z"
      },
      "source": [
        "## 2. Data Cleaning & Analysis"
      ]
    },
    {
      "cell_type": "markdown",
      "metadata": {
        "id": "lik2LTbnah-x"
      },
      "source": [
        "###2.1.   Load Data"
      ]
    },
    {
      "cell_type": "code",
      "execution_count": 125,
      "metadata": {
        "id": "ZFt_VOxaIWQF"
      },
      "outputs": [],
      "source": [
        "# Loading the dataset\n",
        "df=pd.read_csv('https://bit.ly/UsersBehaviourTelco')"
      ]
    },
    {
      "cell_type": "code",
      "execution_count": 126,
      "metadata": {
        "colab": {
          "base_uri": "https://localhost:8080/",
          "height": 206
        },
        "id": "xNcUO9TmGQY9",
        "outputId": "c0f360c5-55f4-46ec-8e47-1edd1196abb6"
      },
      "outputs": [
        {
          "data": {
            "text/html": [
              "<div>\n",
              "<style scoped>\n",
              "    .dataframe tbody tr th:only-of-type {\n",
              "        vertical-align: middle;\n",
              "    }\n",
              "\n",
              "    .dataframe tbody tr th {\n",
              "        vertical-align: top;\n",
              "    }\n",
              "\n",
              "    .dataframe thead th {\n",
              "        text-align: right;\n",
              "    }\n",
              "</style>\n",
              "<table border=\"1\" class=\"dataframe\">\n",
              "  <thead>\n",
              "    <tr style=\"text-align: right;\">\n",
              "      <th></th>\n",
              "      <th>calls</th>\n",
              "      <th>minutes</th>\n",
              "      <th>messages</th>\n",
              "      <th>mb_used</th>\n",
              "      <th>is_ultra</th>\n",
              "    </tr>\n",
              "  </thead>\n",
              "  <tbody>\n",
              "    <tr>\n",
              "      <th>0</th>\n",
              "      <td>40.0</td>\n",
              "      <td>311.90</td>\n",
              "      <td>83.0</td>\n",
              "      <td>19915.42</td>\n",
              "      <td>0</td>\n",
              "    </tr>\n",
              "    <tr>\n",
              "      <th>1</th>\n",
              "      <td>85.0</td>\n",
              "      <td>516.75</td>\n",
              "      <td>56.0</td>\n",
              "      <td>22696.96</td>\n",
              "      <td>0</td>\n",
              "    </tr>\n",
              "    <tr>\n",
              "      <th>2</th>\n",
              "      <td>77.0</td>\n",
              "      <td>467.66</td>\n",
              "      <td>86.0</td>\n",
              "      <td>21060.45</td>\n",
              "      <td>0</td>\n",
              "    </tr>\n",
              "    <tr>\n",
              "      <th>3</th>\n",
              "      <td>106.0</td>\n",
              "      <td>745.53</td>\n",
              "      <td>81.0</td>\n",
              "      <td>8437.39</td>\n",
              "      <td>1</td>\n",
              "    </tr>\n",
              "    <tr>\n",
              "      <th>4</th>\n",
              "      <td>66.0</td>\n",
              "      <td>418.74</td>\n",
              "      <td>1.0</td>\n",
              "      <td>14502.75</td>\n",
              "      <td>0</td>\n",
              "    </tr>\n",
              "  </tbody>\n",
              "</table>\n",
              "</div>"
            ],
            "text/plain": [
              "   calls  minutes  messages   mb_used  is_ultra\n",
              "0   40.0   311.90      83.0  19915.42         0\n",
              "1   85.0   516.75      56.0  22696.96         0\n",
              "2   77.0   467.66      86.0  21060.45         0\n",
              "3  106.0   745.53      81.0   8437.39         1\n",
              "4   66.0   418.74       1.0  14502.75         0"
            ]
          },
          "execution_count": 126,
          "metadata": {},
          "output_type": "execute_result"
        }
      ],
      "source": [
        "# Previewing the first 5 records\n",
        "df.head()"
      ]
    },
    {
      "cell_type": "code",
      "execution_count": null,
      "metadata": {
        "vscode": {
          "languageId": "plaintext"
        }
      },
      "outputs": [],
      "source": [
        "\tcalls\tminutes\tmessages\tmb_used\tis_ultra\n",
        "0\t40.0\t311.90\t83.0\t19915.42\t0\n",
        "1\t85.0\t516.75\t56.0\t22696.96\t0\n",
        "2\t77.0\t467.66\t86.0\t21060.45\t0\n",
        "3\t106.0\t745.53\t81.0\t8437.39\t    1\n",
        "4\t66.0\t418.74\t1.0\t    14502.75\t0"
      ]
    },
    {
      "cell_type": "code",
      "execution_count": null,
      "metadata": {
        "vscode": {
          "languageId": "plaintext"
        }
      },
      "outputs": [],
      "source": [
        "\n",
        "# Checking the last 5 rows of data\n",
        "# ---\n",
        "#\n",
        "df.tail()"
      ]
    },
    {
      "cell_type": "code",
      "execution_count": null,
      "metadata": {
        "vscode": {
          "languageId": "plaintext"
        }
      },
      "outputs": [],
      "source": [
        "\n",
        "calls\tminutes\tmessages\tmb_used\tis_ultra\n",
        "3209\t122.0\t910.98\t20.0\t35124.90\t1\n",
        "3210\t25.0\t190.36\t0.0\t3275.61\t0\n",
        "3211\t97.0\t634.44\t70.0\t13974.06\t0\n",
        "3212\t64.0\t462.32\t90.0\t31239.78\t0\n",
        "3213\t80.0\t566.09\t6.0\t29480.52\t1"
      ]
    },
    {
      "cell_type": "code",
      "execution_count": 127,
      "metadata": {
        "colab": {
          "base_uri": "https://localhost:8080/"
        },
        "id": "Rtk-KKTPLmmd",
        "outputId": "421dcdb4-4758-4b84-e9ca-b1833ba04d79"
      },
      "outputs": [
        {
          "data": {
            "text/plain": [
              "(3214, 5)"
            ]
          },
          "execution_count": 127,
          "metadata": {},
          "output_type": "execute_result"
        }
      ],
      "source": [
        "# Getting our dataset shape\n",
        "\n",
        "df.shape\n",
        "\n",
        "#dataframe has 3214 rows and 5 columns"
      ]
    },
    {
      "cell_type": "code",
      "execution_count": null,
      "metadata": {},
      "outputs": [],
      "source": [
        "df.info()"
      ]
    },
    {
      "cell_type": "code",
      "execution_count": null,
      "metadata": {},
      "outputs": [],
      "source": [
        "<class 'pandas.core.frame.DataFrame'>\n",
        "RangeIndex: 3214 entries, 0 to 3213\n",
        "Data columns (total 5 columns):\n",
        " #   Column    Non-Null Count  Dtype  \n",
        "---  ------    --------------  -----  \n",
        " 0   calls     3214 non-null   float64\n",
        " 1   minutes   3214 non-null   float64\n",
        " 2   messages  3214 non-null   float64\n",
        " 3   mb_used   3214 non-null   float64\n",
        " 4   is_ultra  3214 non-null   int64  \n",
        "dtypes: float64(4), int64(1)\n",
        "memory usage: 125.7 KB"
      ]
    },
    {
      "cell_type": "code",
      "execution_count": 128,
      "metadata": {
        "colab": {
          "base_uri": "https://localhost:8080/"
        },
        "id": "8lNBkI-OrR7C",
        "outputId": "c8658f29-60ad-4203-8fea-1042d28171c0"
      },
      "outputs": [
        {
          "data": {
            "text/plain": [
              "0"
            ]
          },
          "execution_count": 128,
          "metadata": {},
          "output_type": "execute_result"
        }
      ],
      "source": [
        "# Looking for duplicates\n",
        "df.duplicated().sum()\n",
        "\n",
        "#there are no duplicate values "
      ]
    },
    {
      "cell_type": "code",
      "execution_count": 129,
      "metadata": {
        "colab": {
          "base_uri": "https://localhost:8080/"
        },
        "id": "Xxztejv3Joyz",
        "outputId": "c5273786-25a5-47fc-b76a-13aa0caae69c"
      },
      "outputs": [
        {
          "data": {
            "text/plain": [
              "calls       float64\n",
              "minutes     float64\n",
              "messages    float64\n",
              "mb_used     float64\n",
              "is_ultra      int64\n",
              "dtype: object"
            ]
          },
          "execution_count": 129,
          "metadata": {},
          "output_type": "execute_result"
        }
      ],
      "source": [
        "df.dtypes"
      ]
    },
    {
      "cell_type": "code",
      "execution_count": 130,
      "metadata": {
        "colab": {
          "base_uri": "https://localhost:8080/"
        },
        "id": "6uuZbJSPz79W",
        "outputId": "ed5dea92-eaa9-4790-9fac-29a78f67aa17"
      },
      "outputs": [
        {
          "data": {
            "text/plain": [
              "calls       0\n",
              "minutes     0\n",
              "messages    0\n",
              "mb_used     0\n",
              "is_ultra    0\n",
              "dtype: int64"
            ]
          },
          "execution_count": 130,
          "metadata": {},
          "output_type": "execute_result"
        }
      ],
      "source": [
        "# Looking for null values \n",
        "\n",
        "df.isnull().sum()\n",
        "\n",
        "#there are no missing values "
      ]
    },
    {
      "cell_type": "markdown",
      "metadata": {
        "id": "NQTTZBxbjvB2"
      },
      "source": [
        "## Data Preparation"
      ]
    },
    {
      "cell_type": "markdown",
      "metadata": {},
      "source": [
        "Performing Data Cleaning"
      ]
    },
    {
      "cell_type": "code",
      "execution_count": null,
      "metadata": {},
      "outputs": [],
      "source": [
        "# Checking missing entries of all the variables. \n",
        "# ---\n",
        "df.isnull().sum()\n"
      ]
    },
    {
      "cell_type": "code",
      "execution_count": null,
      "metadata": {
        "vscode": {
          "languageId": "plaintext"
        }
      },
      "outputs": [],
      "source": [
        "calls       0\n",
        "minutes     0\n",
        "messages    0\n",
        "mb_used     0\n",
        "is_ultra    0\n",
        "dtype: int64\n",
        "\n",
        "Observation\n",
        "        No missing Values"
      ]
    },
    {
      "cell_type": "code",
      "execution_count": null,
      "metadata": {
        "vscode": {
          "languageId": "plaintext"
        }
      },
      "outputs": [],
      "source": [
        "\n",
        "# Standardizing your dataset i.e. variable renaming \n",
        "# we make all our column headings to have lower case characters and check the first five rows to confirm changes\n",
        "\n",
        "df.columns = df.columns.str.lower()\n",
        "df.head()\n",
        "\n",
        "Observation\n",
        "        Column names have been renamed to lower case"
      ]
    },
    {
      "cell_type": "code",
      "execution_count": 131,
      "metadata": {
        "colab": {
          "base_uri": "https://localhost:8080/"
        },
        "id": "AdAlvzTPqgtu",
        "outputId": "f6ec144f-f290-419a-d53e-60212a8877cb"
      },
      "outputs": [
        {
          "name": "stdout",
          "output_type": "stream",
          "text": [
            "(3214, 5)\n",
            "(1928, 4)\n",
            "(643, 4)\n",
            "(1928,)\n",
            "(643,)\n",
            "(643, 4)\n",
            "(643,)\n"
          ]
        }
      ],
      "source": [
        "#preparing data \n",
        "x = df.drop(['is_ultra'], axis = 1)\n",
        "y = df['is_ultra']  \n",
        "\n",
        "#Split the source data into a training set, a validation set, and a test set.\n",
        "\n",
        "from sklearn.model_selection import train_test_split\n",
        "\n",
        "X_train, X_test, y_train, y_test = train_test_split(x, y, test_size = 0.2, random_state = 42, stratify =y)\n",
        "X_train, X_valid, y_train, y_valid = train_test_split(X_train, y_train, test_size = 0.25, random_state = 42)\n",
        "\n",
        "#confirm size of datasets\n",
        "print(df.shape)\n",
        "print(X_train.shape)\n",
        "print(X_test.shape)\n",
        "print(y_train.shape)\n",
        "print(y_test.shape)\n",
        "print(X_valid.shape)\n",
        "print(y_valid.shape)"
      ]
    },
    {
      "cell_type": "code",
      "execution_count": 136,
      "metadata": {
        "colab": {
          "base_uri": "https://localhost:8080/",
          "height": 206
        },
        "id": "RjXyL67hBSia",
        "outputId": "33c34d00-45f4-4b96-9c59-26889bc21207"
      },
      "outputs": [
        {
          "data": {
            "text/html": [
              "<div>\n",
              "<style scoped>\n",
              "    .dataframe tbody tr th:only-of-type {\n",
              "        vertical-align: middle;\n",
              "    }\n",
              "\n",
              "    .dataframe tbody tr th {\n",
              "        vertical-align: top;\n",
              "    }\n",
              "\n",
              "    .dataframe thead th {\n",
              "        text-align: right;\n",
              "    }\n",
              "</style>\n",
              "<table border=\"1\" class=\"dataframe\">\n",
              "  <thead>\n",
              "    <tr style=\"text-align: right;\">\n",
              "      <th></th>\n",
              "      <th>Actual</th>\n",
              "      <th>Predicted</th>\n",
              "    </tr>\n",
              "  </thead>\n",
              "  <tbody>\n",
              "    <tr>\n",
              "      <th>1201</th>\n",
              "      <td>0</td>\n",
              "      <td>0</td>\n",
              "    </tr>\n",
              "    <tr>\n",
              "      <th>3093</th>\n",
              "      <td>0</td>\n",
              "      <td>0</td>\n",
              "    </tr>\n",
              "    <tr>\n",
              "      <th>2995</th>\n",
              "      <td>1</td>\n",
              "      <td>0</td>\n",
              "    </tr>\n",
              "    <tr>\n",
              "      <th>2739</th>\n",
              "      <td>1</td>\n",
              "      <td>1</td>\n",
              "    </tr>\n",
              "    <tr>\n",
              "      <th>232</th>\n",
              "      <td>1</td>\n",
              "      <td>0</td>\n",
              "    </tr>\n",
              "  </tbody>\n",
              "</table>\n",
              "</div>"
            ],
            "text/plain": [
              "      Actual  Predicted\n",
              "1201       0          0\n",
              "3093       0          0\n",
              "2995       1          0\n",
              "2739       1          1\n",
              "232        1          0"
            ]
          },
          "execution_count": 136,
          "metadata": {},
          "output_type": "execute_result"
        }
      ],
      "source": [
        "#compare actual values with predicted values\n",
        "df_logistic = pd.DataFrame({'Actual': y_test, 'Predicted': logistic_y_prediction })\n",
        "df_logistic.head()"
      ]
    },
    {
      "cell_type": "code",
      "execution_count": 137,
      "metadata": {
        "colab": {
          "base_uri": "https://localhost:8080/",
          "height": 206
        },
        "id": "8DQxutJbCCRX",
        "outputId": "2a5b808f-442f-404a-d81c-08893ee39b72"
      },
      "outputs": [
        {
          "data": {
            "text/html": [
              "<div>\n",
              "<style scoped>\n",
              "    .dataframe tbody tr th:only-of-type {\n",
              "        vertical-align: middle;\n",
              "    }\n",
              "\n",
              "    .dataframe tbody tr th {\n",
              "        vertical-align: top;\n",
              "    }\n",
              "\n",
              "    .dataframe thead th {\n",
              "        text-align: right;\n",
              "    }\n",
              "</style>\n",
              "<table border=\"1\" class=\"dataframe\">\n",
              "  <thead>\n",
              "    <tr style=\"text-align: right;\">\n",
              "      <th></th>\n",
              "      <th>Actual</th>\n",
              "      <th>Predicted</th>\n",
              "    </tr>\n",
              "  </thead>\n",
              "  <tbody>\n",
              "    <tr>\n",
              "      <th>1201</th>\n",
              "      <td>0</td>\n",
              "      <td>0</td>\n",
              "    </tr>\n",
              "    <tr>\n",
              "      <th>3093</th>\n",
              "      <td>0</td>\n",
              "      <td>1</td>\n",
              "    </tr>\n",
              "    <tr>\n",
              "      <th>2995</th>\n",
              "      <td>1</td>\n",
              "      <td>0</td>\n",
              "    </tr>\n",
              "    <tr>\n",
              "      <th>2739</th>\n",
              "      <td>1</td>\n",
              "      <td>1</td>\n",
              "    </tr>\n",
              "    <tr>\n",
              "      <th>232</th>\n",
              "      <td>1</td>\n",
              "      <td>0</td>\n",
              "    </tr>\n",
              "  </tbody>\n",
              "</table>\n",
              "</div>"
            ],
            "text/plain": [
              "      Actual  Predicted\n",
              "1201       0          0\n",
              "3093       0          1\n",
              "2995       1          0\n",
              "2739       1          1\n",
              "232        1          0"
            ]
          },
          "execution_count": 137,
          "metadata": {},
          "output_type": "execute_result"
        }
      ],
      "source": [
        "#compare actual values with predicted values\n",
        "df_decision = pd.DataFrame({'Actual': y_test, 'Predicted': decision_y_prediction })\n",
        "df_decision.head()"
      ]
    },
    {
      "cell_type": "code",
      "execution_count": 138,
      "metadata": {
        "colab": {
          "base_uri": "https://localhost:8080/",
          "height": 206
        },
        "id": "MZhG1IXECDGv",
        "outputId": "e5aefc44-0508-4870-f993-d4c48e8b18da"
      },
      "outputs": [
        {
          "data": {
            "text/html": [
              "<div>\n",
              "<style scoped>\n",
              "    .dataframe tbody tr th:only-of-type {\n",
              "        vertical-align: middle;\n",
              "    }\n",
              "\n",
              "    .dataframe tbody tr th {\n",
              "        vertical-align: top;\n",
              "    }\n",
              "\n",
              "    .dataframe thead th {\n",
              "        text-align: right;\n",
              "    }\n",
              "</style>\n",
              "<table border=\"1\" class=\"dataframe\">\n",
              "  <thead>\n",
              "    <tr style=\"text-align: right;\">\n",
              "      <th></th>\n",
              "      <th>Actual</th>\n",
              "      <th>Predicted</th>\n",
              "    </tr>\n",
              "  </thead>\n",
              "  <tbody>\n",
              "    <tr>\n",
              "      <th>1201</th>\n",
              "      <td>0</td>\n",
              "      <td>0</td>\n",
              "    </tr>\n",
              "    <tr>\n",
              "      <th>3093</th>\n",
              "      <td>0</td>\n",
              "      <td>1</td>\n",
              "    </tr>\n",
              "    <tr>\n",
              "      <th>2995</th>\n",
              "      <td>1</td>\n",
              "      <td>0</td>\n",
              "    </tr>\n",
              "    <tr>\n",
              "      <th>2739</th>\n",
              "      <td>1</td>\n",
              "      <td>1</td>\n",
              "    </tr>\n",
              "    <tr>\n",
              "      <th>232</th>\n",
              "      <td>1</td>\n",
              "      <td>0</td>\n",
              "    </tr>\n",
              "  </tbody>\n",
              "</table>\n",
              "</div>"
            ],
            "text/plain": [
              "      Actual  Predicted\n",
              "1201       0          0\n",
              "3093       0          1\n",
              "2995       1          0\n",
              "2739       1          1\n",
              "232        1          0"
            ]
          },
          "execution_count": 138,
          "metadata": {},
          "output_type": "execute_result"
        }
      ],
      "source": [
        "#compare actual values with predicted values\n",
        "df_random = pd.DataFrame({'Actual': y_test, 'Predicted': random_y_prediction })\n",
        "df_random.head()"
      ]
    },
    {
      "cell_type": "code",
      "execution_count": null,
      "metadata": {},
      "outputs": [],
      "source": [
        "\n",
        "# Checking if any of the rows are all null\n",
        "# ---\n",
        "sum(df.isnull().all(axis = 1))\n",
        "     "
      ]
    },
    {
      "cell_type": "code",
      "execution_count": null,
      "metadata": {},
      "outputs": [],
      "source": [
        "#creating a copy of our dataframe \n",
        "#\n",
        "# ---\n",
        "#\n",
        "data_clean = df.copy()\n",
        "data_clean.head()"
      ]
    },
    {
      "cell_type": "code",
      "execution_count": null,
      "metadata": {},
      "outputs": [],
      "source": [
        "calls\tminutes\tmessages\tmb_used\tis_ultra\n",
        "0\t40.0\t311.90\t83.0\t19915.42\t0\n",
        "1\t85.0\t516.75\t56.0\t22696.96\t0\n",
        "2\t77.0\t467.66\t86.0\t21060.45\t0\n",
        "3\t106.0\t745.53\t81.0\t8437.39\t1\n",
        "4\t66.0\t418.74\t1.0\t14502.75\t0"
      ]
    },
    {
      "cell_type": "code",
      "execution_count": null,
      "metadata": {},
      "outputs": [],
      "source": [
        "data_clean.info()"
      ]
    },
    {
      "cell_type": "code",
      "execution_count": null,
      "metadata": {},
      "outputs": [],
      "source": [
        "<class 'pandas.core.frame.DataFrame'>\n",
        "RangeIndex: 3214 entries, 0 to 3213\n",
        "Data columns (total 5 columns):\n",
        " #   Column    Non-Null Count  Dtype  \n",
        "---  ------    --------------  -----  \n",
        " 0   calls     3214 non-null   float64\n",
        " 1   minutes   3214 non-null   float64\n",
        " 2   messages  3214 non-null   float64\n",
        " 3   mb_used   3214 non-null   float64\n",
        " 4   is_ultra  3214 non-null   int64  \n",
        "dtypes: float64(4), int64(1)\n",
        "memory usage: 125.7 K"
      ]
    },
    {
      "cell_type": "code",
      "execution_count": null,
      "metadata": {},
      "outputs": [],
      "source": [
        "data_clean.describe().T"
      ]
    },
    {
      "cell_type": "code",
      "execution_count": null,
      "metadata": {},
      "outputs": [],
      "source": [
        "\n",
        "count\tmean\tstd\tmin\t25%\t50%\t75%\tmax\n",
        "calls\t3214.0\t63.038892\t33.236368\t0.0\t40.0000\t62.000\t82.0000\t244.00\n",
        "minutes\t3214.0\t438.208787\t234.569872\t0.0\t274.5750\t430.600\t571.9275\t1632.06\n",
        "messages\t3214.0\t38.281269\t36.148326\t0.0\t9.0000\t30.000\t57.0000\t224.00\n",
        "mb_used\t3214.0\t17207.673836\t7570.968246\t0.0\t12491.9025\t16943.235\t21424.7000\t49745.73\n",
        "is_ultra\t3214.0\t0.306472\t0.461100\t0.0\t0.0000\t0.000\t1.0000\t1.0"
      ]
    },
    {
      "cell_type": "code",
      "execution_count": null,
      "metadata": {},
      "outputs": [],
      "source": [
        "\n",
        "data_clean.columns"
      ]
    },
    {
      "cell_type": "markdown",
      "metadata": {},
      "source": [
        "Index(['calls', 'minutes', 'messages', 'mb_used', 'is_ultra'], dtype='object')"
      ]
    },
    {
      "cell_type": "code",
      "execution_count": null,
      "metadata": {},
      "outputs": [],
      "source": [
        "## Splitting the dataframe"
      ]
    },
    {
      "cell_type": "code",
      "execution_count": null,
      "metadata": {},
      "outputs": [],
      "source": [
        "df_train, df_valid = train_test_split(data_clean, test_size=0.25, random_state=12345)\n",
        "# spliting the data in 80:10:10 for train:valid:test dataset\n",
        "train_size=0.8\n",
        "\n",
        "X = data_clean.drop(columns = ['is_ultra']).copy()\n",
        "y = df['is_ultra']\n",
        "\n",
        "# In the first step we will split the data in training and remaining dataset\n",
        "X_train, X_rem, y_train, y_rem = train_test_split(X,y, train_size=0.8)\n",
        "\n",
        "# Now since we want the valid and test size to be equal (10% each of overall data). \n",
        "# we have to define valid_size=0.5 (that is 50% of remaining data)\n",
        "test_size = 0.5\n",
        "X_valid, X_test, y_valid, y_test = train_test_split(X_rem,y_rem, test_size=0.5)\n",
        "\n",
        "print(X_train.shape), print(y_train.shape)\n",
        "print(X_valid.shape), print(y_valid.shape)\n",
        "print(X_test.shape), print(y_test.shape)"
      ]
    },
    {
      "cell_type": "code",
      "execution_count": null,
      "metadata": {},
      "outputs": [],
      "source": [
        "(2571, 4)\n",
        "(2571,)\n",
        "(321, 4)\n",
        "(321,)\n",
        "(322, 4)\n",
        "(322,)"
      ]
    },
    {
      "cell_type": "code",
      "execution_count": null,
      "metadata": {},
      "outputs": [],
      "source": [
        "model = DecisionTreeClassifier(random_state=12345,max_depth=3,class_weight=None)\n",
        "\n",
        "model.fit(X_train, y_train)\n",
        "train_predictions = model.predict(X_train)\n",
        "model.fit(X_test, y_test)\n",
        "test_predictions = model.predict(X_test)\n",
        "model.fit(X_valid, y_valid)\n",
        "valid_predictions = model.predict(X_valid)\n",
        "\n",
        "print('Accuracy')\n",
        "print('Training set:', accuracy_score(y_train, train_predictions))\n",
        "print('Test set:', accuracy_score(y_test, test_predictions))\n",
        "print('Valid set:', accuracy_score(y_valid, valid_predictions))"
      ]
    },
    {
      "cell_type": "code",
      "execution_count": null,
      "metadata": {},
      "outputs": [],
      "source": [
        "Accuracy\n",
        "Training set: 0.7950213924542979\n",
        "Test set: 0.8167701863354038\n",
        "Valid set: 0.838006230529595"
      ]
    },
    {
      "cell_type": "markdown",
      "metadata": {},
      "source": [
        "# Random Forest"
      ]
    },
    {
      "cell_type": "code",
      "execution_count": null,
      "metadata": {},
      "outputs": [],
      "source": [
        "from sklearn.ensemble import RandomForestClassifier\n",
        "model = RandomForestClassifier(random_state=12345, n_estimators=3)\n",
        "model.fit(X_train, y_train)\n",
        "train_predictions = model.predict(X_train)\n",
        "model.fit(X_test, y_test)\n",
        "test_predictions = model.predict(X_test)\n",
        "model.fit(X_valid, y_valid)\n",
        "valid_predictions = model.predict(X_valid)\n",
        "\n",
        "print('Accuracy')\n",
        "print('Training set:', accuracy_score(y_train, train_predictions))\n",
        "print('Test set:', accuracy_score(y_test, test_predictions))\n",
        "print('Valid set:', accuracy_score(y_valid, valid_predictions))"
      ]
    },
    {
      "cell_type": "code",
      "execution_count": null,
      "metadata": {},
      "outputs": [],
      "source": [
        "Accuracy\n",
        "Training set: 0.9548813691170751\n",
        "Test set: 0.9472049689440993\n",
        "Valid set: 0.956386292834891"
      ]
    },
    {
      "cell_type": "code",
      "execution_count": null,
      "metadata": {},
      "outputs": [],
      "source": [
        "# Logistic Regression"
      ]
    },
    {
      "cell_type": "code",
      "execution_count": null,
      "metadata": {},
      "outputs": [],
      "source": [
        "from sklearn.linear_model import LogisticRegression\n",
        "model = LogisticRegression(random_state=12345, solver='liblinear')\n",
        "model.fit(X_train, y_train)\n",
        "train_predictions = model.predict(X_train)\n",
        "model.fit(X_test, y_test)\n",
        "test_predictions = model.predict(X_test)\n",
        "model.fit(X_valid, y_valid)\n",
        "z= model.score(X_valid, y_valid)\n",
        "\n",
        "print('Accuracy')\n",
        "print('Training set:', accuracy_score(y_train, train_predictions))\n",
        "print('Test set:', accuracy_score(y_test, test_predictions))\n",
        "print('Valid set:', z)\n",
        "     "
      ]
    },
    {
      "cell_type": "code",
      "execution_count": null,
      "metadata": {},
      "outputs": [],
      "source": [
        "Accuracy\n",
        "Training set: 0.7370672889926099\n",
        "Test set: 0.7422360248447205\n",
        "Valid set: 0.8037383177570093"
      ]
    },
    {
      "cell_type": "code",
      "execution_count": null,
      "metadata": {},
      "outputs": [],
      "source": [
        "Conclusion\n",
        "   Random forest has the highest accuracy"
      ]
    },
    {
      "cell_type": "markdown",
      "metadata": {
        "id": "FioWO5BcjLyO"
      },
      "source": [
        "#### 2.2.2 Evaluation Metrics"
      ]
    },
    {
      "cell_type": "code",
      "execution_count": 119,
      "metadata": {
        "colab": {
          "base_uri": "https://localhost:8080/",
          "height": 112
        },
        "id": "ND0xl2oh0res",
        "outputId": "09d5c491-5c13-4bdc-ffe0-1f8f0767eac6"
      },
      "outputs": [
        {
          "data": {
            "text/html": [
              "<div>\n",
              "<style scoped>\n",
              "    .dataframe tbody tr th:only-of-type {\n",
              "        vertical-align: middle;\n",
              "    }\n",
              "\n",
              "    .dataframe tbody tr th {\n",
              "        vertical-align: top;\n",
              "    }\n",
              "\n",
              "    .dataframe thead th {\n",
              "        text-align: right;\n",
              "    }\n",
              "</style>\n",
              "<table border=\"1\" class=\"dataframe\">\n",
              "  <thead>\n",
              "    <tr style=\"text-align: right;\">\n",
              "      <th></th>\n",
              "      <th>calls</th>\n",
              "      <th>minutes</th>\n",
              "      <th>messages</th>\n",
              "      <th>mb_used</th>\n",
              "      <th>is_ultra</th>\n",
              "    </tr>\n",
              "  </thead>\n",
              "  <tbody>\n",
              "    <tr>\n",
              "      <th>2340</th>\n",
              "      <td>38.0</td>\n",
              "      <td>277.94</td>\n",
              "      <td>0.0</td>\n",
              "      <td>17402.54</td>\n",
              "      <td>1</td>\n",
              "    </tr>\n",
              "    <tr>\n",
              "      <th>830</th>\n",
              "      <td>61.0</td>\n",
              "      <td>436.15</td>\n",
              "      <td>34.0</td>\n",
              "      <td>9894.75</td>\n",
              "      <td>0</td>\n",
              "    </tr>\n",
              "  </tbody>\n",
              "</table>\n",
              "</div>"
            ],
            "text/plain": [
              "      calls  minutes  messages   mb_used  is_ultra\n",
              "2340   38.0   277.94       0.0  17402.54         1\n",
              "830    61.0   436.15      34.0   9894.75         0"
            ]
          },
          "execution_count": 119,
          "metadata": {},
          "output_type": "execute_result"
        }
      ],
      "source": [
        "df.sample(2)"
      ]
    },
    {
      "cell_type": "markdown",
      "metadata": {
        "id": "hZn1-mFnKDp8"
      },
      "source": [
        "Findings:\n",
        "\n",
        "Random Forest and Decision Tree classifers are reliable since they accuretly predicts a customer's plan "
      ]
    }
  ],
  "metadata": {
    "colab": {
      "collapsed_sections": [],
      "name": "Introduction to Regression Project",
      "provenance": [],
      "toc_visible": true
    },
    "kernelspec": {
      "display_name": "Python 3",
      "language": "python",
      "name": "python3"
    },
    "language_info": {
      "codemirror_mode": {
        "name": "ipython",
        "version": 3
      },
      "file_extension": ".py",
      "mimetype": "text/x-python",
      "name": "python",
      "nbconvert_exporter": "python",
      "pygments_lexer": "ipython3",
      "version": "3.7.4"
    }
  },
  "nbformat": 4,
  "nbformat_minor": 0
}
